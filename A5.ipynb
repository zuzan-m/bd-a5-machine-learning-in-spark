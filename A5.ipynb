{
 "cells": [
  {
   "cell_type": "markdown",
   "metadata": {},
   "source": [
    "# <span style=\"font-variant: small-caps\"> Big Data </span>\n",
    "\n",
    "## Assignment 5\n",
    "zuzan\n",
    "\n",
    "---\n",
    "\n",
    "**Task 1** Download the Bank Marketing dataset from Kaggle (https://www.kaggle.com/rouseguy/bankbalanced/data). Using PySpark, build a binary classifier that predicts whether a client will subscribe to a term deposit. Compare different classification algorithms with each other.\n",
    "\n",
    "---\n",
    "\n",
    "**Dataset description*:**\n",
    "\n",
    "1 - age (numeric)\n",
    "\n",
    "2 - job : type of job (categorical: 'admin.','blue-collar','entrepreneur','housemaid','management','retired','self-employed','services','student','technician','unemployed','unknown')\n",
    "\n",
    "3 - marital : marital status (categorical: 'divorced','married','single','unknown'; note: 'divorced' means divorced or widowed)\n",
    "\n",
    "4 - education (categorical: 'basic.4y','basic.6y','basic.9y','high.school','illiterate','professional.course','university.degree','unknown')\n",
    "\n",
    "5 - default: has credit in default? (categorical: 'no','yes','unknown')\n",
    "\n",
    "6 - balance\n",
    "\n",
    "7 - housing: has housing loan? (categorical: 'no','yes','unknown')\n",
    "\n",
    "8 - loan: has personal loan? (categorical: 'no','yes','unknown')\n",
    "\n",
    "9 - contact: contact communication type (categorical: 'cellular','telephone')\n",
    "\n",
    "10 - day\n",
    "\n",
    "11 - month: last contact month of year (categorical: 'jan', 'feb', 'mar', ..., 'nov', 'dec')\n",
    "\n",
    "12 - duration: last contact duration, in seconds (numeric). Important note: this attribute highly affects the output target (e.g., if duration=0 then y='no'). Yet, the duration is not known before a call is performed. Also, after the end of the call y is obviously known. Thus, this input should only be included for benchmark purposes and should be discarded if the intention is to have a realistic predictive model.\n",
    "\n",
    "13 - campaign: number of contacts performed during this campaign and for this client (numeric, includes last contact)\n",
    "\n",
    "14 - pdays: number of days that passed by after the client was last contacted from a previous campaign (numeric; 999 means client was not previously contacted)\n",
    "\n",
    "15 - previous: number of contacts performed before this campaign and for this client (numeric)\n",
    "\n",
    "16 - poutcome: outcome of the previous marketing campaign (categorical: 'failure','nonexistent','success')\n",
    "\n",
    "17 - deposit - has the client subscribed a term deposit? (binary: 'yes','no')\n",
    "\n",
    "\\* this is a description provided by UCI, regarding the full dataset. The information above might be not 100% consistent with the analyzed data frame."
   ]
  },
  {
   "cell_type": "code",
   "execution_count": 1,
   "metadata": {
    "collapsed": true
   },
   "outputs": [],
   "source": [
    "import findspark\n",
    "findspark.init()\n",
    "\n",
    "import pyspark # only run after findspark.init()\n",
    "from pyspark.sql import SparkSession\n",
    "spark = SparkSession.builder.getOrCreate()"
   ]
  },
  {
   "cell_type": "code",
   "execution_count": 102,
   "metadata": {},
   "outputs": [],
   "source": [
    "from pyspark.ml.stat import Correlation\n",
    "from pyspark.ml.feature import VectorAssembler, OneHotEncoder, StringIndexer\n",
    "from pyspark.ml import Pipeline\n",
    "import pandas as pd\n",
    "import numpy as np\n",
    "import seaborn as sn\n",
    "import matplotlib.pyplot as plt"
   ]
  },
  {
   "cell_type": "code",
   "execution_count": 2,
   "metadata": {
    "collapsed": true
   },
   "outputs": [],
   "source": [
    "data = spark.read.csv('bank.csv', header=True, inferSchema=True)"
   ]
  },
  {
   "cell_type": "code",
   "execution_count": 3,
   "metadata": {},
   "outputs": [
    {
     "name": "stdout",
     "output_type": "stream",
     "text": [
      "+---+----------+-------+---------+-------+-------+-------+----+-------+---+-----+--------+--------+-----+--------+--------+-------+\n",
      "|age|       job|marital|education|default|balance|housing|loan|contact|day|month|duration|campaign|pdays|previous|poutcome|deposit|\n",
      "+---+----------+-------+---------+-------+-------+-------+----+-------+---+-----+--------+--------+-----+--------+--------+-------+\n",
      "| 59|    admin.|married|secondary|     no|   2343|    yes|  no|unknown|  5|  may|    1042|       1|   -1|       0| unknown|    yes|\n",
      "| 56|    admin.|married|secondary|     no|     45|     no|  no|unknown|  5|  may|    1467|       1|   -1|       0| unknown|    yes|\n",
      "| 41|technician|married|secondary|     no|   1270|    yes|  no|unknown|  5|  may|    1389|       1|   -1|       0| unknown|    yes|\n",
      "| 55|  services|married|secondary|     no|   2476|    yes|  no|unknown|  5|  may|     579|       1|   -1|       0| unknown|    yes|\n",
      "| 54|    admin.|married| tertiary|     no|    184|     no|  no|unknown|  5|  may|     673|       2|   -1|       0| unknown|    yes|\n",
      "+---+----------+-------+---------+-------+-------+-------+----+-------+---+-----+--------+--------+-----+--------+--------+-------+\n",
      "only showing top 5 rows\n",
      "\n"
     ]
    }
   ],
   "source": [
    "data.show(5)"
   ]
  },
  {
   "cell_type": "code",
   "execution_count": 4,
   "metadata": {},
   "outputs": [
    {
     "name": "stdout",
     "output_type": "stream",
     "text": [
      "root\n",
      " |-- age: integer (nullable = true)\n",
      " |-- job: string (nullable = true)\n",
      " |-- marital: string (nullable = true)\n",
      " |-- education: string (nullable = true)\n",
      " |-- default: string (nullable = true)\n",
      " |-- balance: integer (nullable = true)\n",
      " |-- housing: string (nullable = true)\n",
      " |-- loan: string (nullable = true)\n",
      " |-- contact: string (nullable = true)\n",
      " |-- day: integer (nullable = true)\n",
      " |-- month: string (nullable = true)\n",
      " |-- duration: integer (nullable = true)\n",
      " |-- campaign: integer (nullable = true)\n",
      " |-- pdays: integer (nullable = true)\n",
      " |-- previous: integer (nullable = true)\n",
      " |-- poutcome: string (nullable = true)\n",
      " |-- deposit: string (nullable = true)\n",
      "\n"
     ]
    }
   ],
   "source": [
    "data.printSchema()"
   ]
  },
  {
   "cell_type": "code",
   "execution_count": 6,
   "metadata": {},
   "outputs": [
    {
     "name": "stdout",
     "output_type": "stream",
     "text": [
      "+-------+-----+\n",
      "|deposit|count|\n",
      "+-------+-----+\n",
      "|    yes| 5289|\n",
      "|     no| 5873|\n",
      "+-------+-----+\n",
      "\n"
     ]
    }
   ],
   "source": [
    "data.select('deposit').groupBy('deposit').count().show()  # good, balanced"
   ]
  },
  {
   "cell_type": "code",
   "execution_count": 37,
   "metadata": {},
   "outputs": [],
   "source": [
    "vector_col = \"corr_features\"\n",
    "numeric_features = [t[0] for t in data.dtypes if t[1] == 'int']\n",
    "assembler = VectorAssembler(inputCols=numeric_features, outputCol=vector_col)\n",
    "df_vector = assembler.transform(data).select(vector_col)\n",
    "\n",
    "matrix = Correlation.corr(df_vector, vector_col)"
   ]
  },
  {
   "cell_type": "code",
   "execution_count": 11,
   "metadata": {},
   "outputs": [
    {
     "data": {
      "text/plain": [
       "Row(pearson(corr_features)=DenseMatrix(7, 7, [1.0, 0.1123, -0.0008, 0.0002, -0.0053, 0.0028, 0.0202, 0.1123, ..., 0.5073, 0.0202, 0.0308, -0.059, -0.0267, -0.0497, 0.5073, 1.0], False))"
      ]
     },
     "execution_count": 11,
     "metadata": {},
     "output_type": "execute_result"
    }
   ],
   "source": [
    "matrix.head()"
   ]
  },
  {
   "cell_type": "code",
   "execution_count": 9,
   "metadata": {},
   "outputs": [
    {
     "data": {
      "text/plain": [
       "array([ 1.00000000e+00,  1.12299889e-01, -7.62420921e-04,  1.89228074e-04,\n",
       "       -5.27793616e-03,  2.77383431e-03,  2.01685612e-02,  1.12299889e-01,\n",
       "        1.00000000e+00,  1.04674395e-02,  2.24361313e-02, -1.38938225e-02,\n",
       "        1.74111486e-02,  3.08052469e-02, -7.62420921e-04,  1.04674395e-02,\n",
       "        1.00000000e+00, -1.85113992e-02,  1.37006834e-01, -7.72316130e-02,\n",
       "       -5.89806835e-02,  1.89228074e-04,  2.24361313e-02, -1.85113992e-02,\n",
       "        1.00000000e+00, -4.15574588e-02, -2.73915532e-02, -2.67161713e-02,\n",
       "       -5.27793616e-03, -1.38938225e-02,  1.37006834e-01, -4.15574588e-02,\n",
       "        1.00000000e+00, -1.02726048e-01, -4.96994980e-02,  2.77383431e-03,\n",
       "        1.74111486e-02, -7.72316130e-02, -2.73915532e-02, -1.02726048e-01,\n",
       "        1.00000000e+00,  5.07271588e-01,  2.01685612e-02,  3.08052469e-02,\n",
       "       -5.89806835e-02, -2.67161713e-02, -4.96994980e-02,  5.07271588e-01,\n",
       "        1.00000000e+00])"
      ]
     },
     "execution_count": 9,
     "metadata": {},
     "output_type": "execute_result"
    }
   ],
   "source": [
    "matrix.collect()[0][\"pearson({})\".format(vector_col)].values   # pretty unreadable"
   ]
  },
  {
   "cell_type": "code",
   "execution_count": 38,
   "metadata": {},
   "outputs": [
    {
     "data": {
      "image/png": "[encoded data removed]",
      "text/plain": [
       "<Figure size 720x504 with 2 Axes>"
      ]
     },
     "metadata": {
      "needs_background": "light"
     },
     "output_type": "display_data"
    }
   ],
   "source": [
    "numeric_data = data.select(numeric_features).toPandas()    # no strong correlations betweet features\n",
    "fig, ax = plt.subplots(figsize=(10,7))  \n",
    "sn.heatmap(numeric_data.corr(), annot=True)\n",
    "plt.show()"
   ]
  },
  {
   "cell_type": "code",
   "execution_count": 39,
   "metadata": {},
   "outputs": [],
   "source": [
    "numeric_data = data.select(numeric_features + ['deposit']).toPandas()  "
   ]
  },
  {
   "cell_type": "code",
   "execution_count": 90,
   "metadata": {},
   "outputs": [
    {
     "data": {
      "image/png": "[encoded data removed]",
      "text/plain": [
       "<Figure size 1296x504 with 8 Axes>"
      ]
     },
     "metadata": {
      "needs_background": "light"
     },
     "output_type": "display_data"
    }
   ],
   "source": [
    "fig, axs = plt.subplots(2,4, figsize=(18,7))\n",
    "for i, ax in enumerate(fig.axes):\n",
    "    if i < 7:\n",
    "        col = numeric_data.columns[i]\n",
    "        ax.hist(numeric_data[numeric_data.deposit=='yes'][col], alpha=0.6, color='#006633', density=True)\n",
    "        ax.hist(numeric_data[numeric_data.deposit=='no'][col], alpha=0.5, color='#3D0099', density=True)\n",
    "        ax.legend(['yes','no'], title='deposit')\n",
    "        ax.set_title(col)\n",
    "plt.show()"
   ]
  },
  {
   "cell_type": "code",
   "execution_count": 94,
   "metadata": {},
   "outputs": [
    {
     "data": {
      "text/plain": [
       "count    11162.000000\n",
       "mean       371.993818\n",
       "std        347.128386\n",
       "min          2.000000\n",
       "25%        138.000000\n",
       "50%        255.000000\n",
       "75%        496.000000\n",
       "max       3881.000000\n",
       "Name: duration, dtype: float64"
      ]
     },
     "execution_count": 94,
     "metadata": {},
     "output_type": "execute_result"
    }
   ],
   "source": [
    "# how it is with this duration feature?\n",
    "numeric_data.duration.describe()   # it looks like the attribute description is not really correct"
   ]
  },
  {
   "cell_type": "markdown",
   "metadata": {},
   "source": [
    "I will include all variables in further modeling."
   ]
  },
  {
   "cell_type": "markdown",
   "metadata": {},
   "source": [
    "### Data preparation"
   ]
  },
  {
   "cell_type": "code",
   "execution_count": 101,
   "metadata": {},
   "outputs": [],
   "source": [
    "# 1. string indexing and one hot encoding for categorical features\n",
    "\n",
    "pipeline_stages = []\n",
    "\n",
    "label_indexer = StringIndexer(inputCol = 'deposit', outputCol = 'label')\n",
    "pipeline_stages += [label_indexer]\n",
    "\n",
    "categoricalColumns = ['job', 'marital', 'education', 'default', 'housing', 'loan', 'contact', 'month', 'poutcome']\n",
    "\n",
    "for col in categoricalColumns:\n",
    "    indexer = StringIndexer(inputCol = col, outputCol = col + '_index')\n",
    "    encoder = OneHotEncoder(inputCols = [indexer.getOutputCol()], outputCols = [col + \"_onehot\"])\n",
    "    pipeline_stages += [indexer, encoder]\n",
    "    \n",
    "\n",
    "# 2. adding numerical features\n",
    "\n",
    "numericalColumns = ['age', 'balance', 'day', 'duration', 'campaign', 'pdays', 'previous']\n",
    "columns = [col + \"_onehot\" for col in categoricalColumns] + numericalColumns\n",
    "\n",
    "\n",
    "# 3. combining all feature columns\n",
    "assembler = VectorAssembler(inputCols = columns, outputCol = \"features\")\n",
    "pipeline_stages += [assembler]"
   ]
  },
  {
   "cell_type": "code",
   "execution_count": 103,
   "metadata": {
    "collapsed": true
   },
   "outputs": [],
   "source": [
    "pipeline = Pipeline(stages=pipeline_stages)\n",
    "pipeline_model = pipeline.fit(data)"
   ]
  },
  {
   "cell_type": "code",
   "execution_count": 107,
   "metadata": {},
   "outputs": [
    {
     "name": "stdout",
     "output_type": "stream",
     "text": [
      "+-----------+--------+---------+-------+-------+----+-------+-----+--------+---+-------+---+--------+--------+-----+--------+--------------------+-----+\n",
      "|        job| marital|education|default|housing|loan|contact|month|poutcome|age|balance|day|duration|campaign|pdays|previous|            features|label|\n",
      "+-----------+--------+---------+-------+-------+----+-------+-----+--------+---+-------+---+--------+--------+-----+--------+--------------------+-----+\n",
      "|     admin.| married|secondary|     no|    yes|  no|unknown|  may| unknown| 59|   2343|  5|    1042|       1|   -1|       0|(42,[3,11,13,16,1...|  1.0|\n",
      "|     admin.| married|secondary|     no|     no|  no|unknown|  may| unknown| 56|     45|  5|    1467|       1|   -1|       0|(42,[3,11,13,16,1...|  1.0|\n",
      "| technician| married|secondary|     no|    yes|  no|unknown|  may| unknown| 41|   1270|  5|    1389|       1|   -1|       0|(42,[2,11,13,16,1...|  1.0|\n",
      "|   services| married|secondary|     no|    yes|  no|unknown|  may| unknown| 55|   2476|  5|     579|       1|   -1|       0|(42,[4,11,13,16,1...|  1.0|\n",
      "|     admin.| married| tertiary|     no|     no|  no|unknown|  may| unknown| 54|    184|  5|     673|       2|   -1|       0|(42,[3,11,14,16,1...|  1.0|\n",
      "| management|  single| tertiary|     no|    yes| yes|unknown|  may| unknown| 42|      0|  5|     562|       2|   -1|       0|(42,[0,12,14,16,2...|  1.0|\n",
      "| management| married| tertiary|     no|    yes| yes|unknown|  may| unknown| 56|    830|  6|    1201|       1|   -1|       0|(42,[0,11,14,16,2...|  1.0|\n",
      "|    retired|divorced|secondary|     no|    yes|  no|unknown|  may| unknown| 60|    545|  6|    1030|       1|   -1|       0|(42,[5,13,16,18,2...|  1.0|\n",
      "| technician| married|secondary|     no|    yes|  no|unknown|  may| unknown| 37|      1|  6|     608|       1|   -1|       0|(42,[2,11,13,16,1...|  1.0|\n",
      "|   services|  single|secondary|     no|    yes|  no|unknown|  may| unknown| 28|   5090|  6|    1297|       3|   -1|       0|(42,[4,12,13,16,1...|  1.0|\n",
      "|     admin.|  single|secondary|     no|    yes|  no|unknown|  may| unknown| 38|    100|  7|     786|       1|   -1|       0|(42,[3,12,13,16,1...|  1.0|\n",
      "|blue-collar| married|secondary|     no|    yes|  no|unknown|  may| unknown| 30|    309|  7|    1574|       2|   -1|       0|(42,[1,11,13,16,1...|  1.0|\n",
      "| management| married| tertiary|     no|    yes| yes|unknown|  may| unknown| 29|    199|  7|    1689|       4|   -1|       0|(42,[0,11,14,16,2...|  1.0|\n",
      "|blue-collar|  single| tertiary|     no|    yes|  no|unknown|  may| unknown| 46|    460|  7|    1102|       2|   -1|       0|(42,[1,12,14,16,1...|  1.0|\n",
      "| technician|  single| tertiary|     no|    yes|  no|unknown|  may| unknown| 31|    703|  8|     943|       2|   -1|       0|(42,[2,12,14,16,1...|  1.0|\n",
      "| management|divorced| tertiary|     no|    yes|  no|unknown|  may| unknown| 35|   3837|  8|    1084|       1|   -1|       0|(42,[0,14,16,18,2...|  1.0|\n",
      "|blue-collar|  single|  primary|     no|    yes|  no|unknown|  may| unknown| 32|    611|  8|     541|       3|   -1|       0|(42,[1,12,15,16,1...|  1.0|\n",
      "|   services| married|secondary|     no|    yes|  no|unknown|  may| unknown| 49|     -8|  8|    1119|       1|   -1|       0|(42,[4,11,13,16,1...|  1.0|\n",
      "|     admin.| married|secondary|     no|    yes|  no|unknown|  may| unknown| 41|     55|  8|    1120|       2|   -1|       0|(42,[3,11,13,16,1...|  1.0|\n",
      "|     admin.|divorced|secondary|     no|    yes| yes|unknown|  may| unknown| 49|    168|  8|     513|       1|   -1|       0|(42,[3,13,16,20,2...|  1.0|\n",
      "+-----------+--------+---------+-------+-------+----+-------+-----+--------+---+-------+---+--------+--------+-----+--------+--------------------+-----+\n",
      "only showing top 20 rows\n",
      "\n"
     ]
    }
   ],
   "source": [
    "df = pipeline_model.transform(data).select(categoricalColumns + numericalColumns + ['features','label'])\n",
    "df.show()"
   ]
  },
  {
   "cell_type": "code",
   "execution_count": 108,
   "metadata": {
    "collapsed": true
   },
   "outputs": [],
   "source": [
    "# spliting into training and testing sets\n",
    "train, test = df.randomSplit([0.8, 0.2], seed = 1)"
   ]
  },
  {
   "cell_type": "markdown",
   "metadata": {},
   "source": [
    "### Decision Tree"
   ]
  },
  {
   "cell_type": "code",
   "execution_count": 143,
   "metadata": {},
   "outputs": [],
   "source": [
    "from pyspark.ml.classification import DecisionTreeClassifier\n",
    "tree = DecisionTreeClassifier(featuresCol='features', labelCol='label')"
   ]
  },
  {
   "cell_type": "code",
   "execution_count": 144,
   "metadata": {
    "collapsed": true
   },
   "outputs": [],
   "source": [
    "# grid search\n",
    "from pyspark.ml.tuning import ParamGridBuilder\n",
    "param_grid = ParamGridBuilder().addGrid(tree.maxDepth, [2,4,6,8,10]).build()"
   ]
  },
  {
   "cell_type": "code",
   "execution_count": 145,
   "metadata": {
    "collapsed": true
   },
   "outputs": [],
   "source": [
    "# evaluator\n",
    "from pyspark.ml.evaluation import BinaryClassificationEvaluator\n",
    "binary_evaluator = BinaryClassificationEvaluator(metricName=\"areaUnderROC\")"
   ]
  },
  {
   "cell_type": "code",
   "execution_count": 146,
   "metadata": {
    "collapsed": true
   },
   "outputs": [],
   "source": [
    "#build cross-validation model\n",
    "from pyspark.ml.tuning import CrossValidator\n",
    "cv = CrossValidator(estimator=tree, estimatorParamMaps=param_grid, evaluator=binary_evaluator, numFolds=5)"
   ]
  },
  {
   "cell_type": "code",
   "execution_count": 147,
   "metadata": {
    "collapsed": true
   },
   "outputs": [],
   "source": [
    "model = cv.fit(train)"
   ]
  },
  {
   "cell_type": "code",
   "execution_count": 148,
   "metadata": {},
   "outputs": [
    {
     "name": "stdout",
     "output_type": "stream",
     "text": [
      "Max depth: dict_values([2])  Area Under ROC: 0.6748088549834059\n",
      "Max depth: dict_values([4])  Area Under ROC: 0.7388636036654854\n",
      "Max depth: dict_values([6])  Area Under ROC: 0.7522468427901274\n",
      "Max depth: dict_values([8])  Area Under ROC: 0.7309895700674889\n",
      "Max depth: dict_values([10])  Area Under ROC: 0.6949952476517853\n"
     ]
    }
   ],
   "source": [
    "for param, metrics in zip(param_grid, model.avgMetrics):\n",
    "    print('Max depth:', param.values(), ' Area Under ROC:', metrics)  # just inspecting auc for different hiperparameters"
   ]
  },
  {
   "cell_type": "code",
   "execution_count": 149,
   "metadata": {},
   "outputs": [
    {
     "data": {
      "text/plain": [
       "DecisionTreeClassificationModel: uid=DecisionTreeClassifier_92cf17c9ecce, depth=6, numNodes=75, numClasses=2, numFeatures=42"
      ]
     },
     "execution_count": 149,
     "metadata": {},
     "output_type": "execute_result"
    }
   ],
   "source": [
    "model.bestModel   # the tree of depth 6 will be chosen as the best model"
   ]
  },
  {
   "cell_type": "code",
   "execution_count": 150,
   "metadata": {
    "collapsed": true
   },
   "outputs": [],
   "source": [
    "prediction_tree = model.transform(test)"
   ]
  },
  {
   "cell_type": "code",
   "execution_count": 155,
   "metadata": {},
   "outputs": [
    {
     "name": "stdout",
     "output_type": "stream",
     "text": [
      "+--------------------+-----+--------------------+----------+\n",
      "|            features|label|         probability|prediction|\n",
      "+--------------------+-----+--------------------+----------+\n",
      "|(42,[3,15,16,18,2...|  0.0|[0.86558805227131...|       0.0|\n",
      "|(42,[3,13,16,17,1...|  1.0|[0.08682170542635...|       1.0|\n",
      "|(42,[3,13,16,17,1...|  1.0|[0.23561346362649...|       1.0|\n",
      "|(42,[3,13,16,17,1...|  0.0|[0.31431431431431...|       1.0|\n",
      "|(42,[3,13,16,17,1...|  1.0|[0.86558805227131...|       0.0|\n",
      "+--------------------+-----+--------------------+----------+\n",
      "only showing top 5 rows\n",
      "\n"
     ]
    }
   ],
   "source": [
    "prediction_tree.select(['features','label','probability','prediction']).show(5)"
   ]
  },
  {
   "cell_type": "code",
   "execution_count": 156,
   "metadata": {},
   "outputs": [
    {
     "name": "stdout",
     "output_type": "stream",
     "text": [
      "+-----+----------+-----+\n",
      "|label|prediction|count|\n",
      "+-----+----------+-----+\n",
      "|  0.0|       0.0|  989|\n",
      "|  1.0|       1.0|  833|\n",
      "|  0.0|       1.0|  188|\n",
      "|  1.0|       0.0|  204|\n",
      "+-----+----------+-----+\n",
      "\n"
     ]
    }
   ],
   "source": [
    "# confusion matrix\n",
    "prediction_tree.groupBy('label','prediction').count().show()"
   ]
  },
  {
   "cell_type": "code",
   "execution_count": 157,
   "metadata": {},
   "outputs": [
    {
     "data": {
      "text/plain": [
       "0.8229448961156278"
      ]
     },
     "execution_count": 157,
     "metadata": {},
     "output_type": "execute_result"
    }
   ],
   "source": [
    "# accuracy\n",
    "(989 + 833) / (989 + 833 + 188 + 204)"
   ]
  },
  {
   "cell_type": "markdown",
   "metadata": {},
   "source": [
    "### Random Forest"
   ]
  },
  {
   "cell_type": "code",
   "execution_count": 170,
   "metadata": {
    "collapsed": true
   },
   "outputs": [],
   "source": [
    "from pyspark.ml.classification import RandomForestClassifier\n",
    "\n",
    "forest = RandomForestClassifier(featuresCol='features', labelCol='label')\n",
    "param_grid = ParamGridBuilder().addGrid(forest.numTrees, [50,100]).addGrid(forest.maxDepth, [4,6,8]).build()\n",
    "binary_evaluator = BinaryClassificationEvaluator(metricName=\"areaUnderROC\")\n",
    "cv = CrossValidator(estimator=forest, estimatorParamMaps=param_grid, evaluator=binary_evaluator, numFolds=5)\n",
    "\n",
    "model = cv.fit(train)"
   ]
  },
  {
   "cell_type": "code",
   "execution_count": 174,
   "metadata": {},
   "outputs": [
    {
     "name": "stdout",
     "output_type": "stream",
     "text": [
      "Number of trees, max depth: dict_values([50, 4])  Area Under ROC: 0.8824059611982712\n",
      "Number of trees, max depth: dict_values([50, 6])  Area Under ROC: 0.8990035446548217\n",
      "Number of trees, max depth: dict_values([50, 8])  Area Under ROC: 0.9090165057577586\n",
      "Number of trees, max depth: dict_values([100, 4])  Area Under ROC: 0.8840727512484519\n",
      "Number of trees, max depth: dict_values([100, 6])  Area Under ROC: 0.9009052085546191\n",
      "Number of trees, max depth: dict_values([100, 8])  Area Under ROC: 0.9106272914512146\n"
     ]
    }
   ],
   "source": [
    "for param, metrics in zip(param_grid, model.avgMetrics):\n",
    "    print('Number of trees, max depth:', param.values(), ' Area Under ROC:', metrics) "
   ]
  },
  {
   "cell_type": "code",
   "execution_count": 175,
   "metadata": {},
   "outputs": [
    {
     "data": {
      "text/plain": [
       "RandomForestClassificationModel: uid=RandomForestClassifier_1c98a62c2012, numTrees=100, numClasses=2, numFeatures=42"
      ]
     },
     "execution_count": 175,
     "metadata": {},
     "output_type": "execute_result"
    }
   ],
   "source": [
    "model.bestModel  # best model for 100 trees and depth 8"
   ]
  },
  {
   "cell_type": "code",
   "execution_count": 176,
   "metadata": {
    "collapsed": true
   },
   "outputs": [],
   "source": [
    "prediction_forest = model.transform(test)"
   ]
  },
  {
   "cell_type": "code",
   "execution_count": 177,
   "metadata": {},
   "outputs": [
    {
     "name": "stdout",
     "output_type": "stream",
     "text": [
      "+-----+----------+-----+\n",
      "|label|prediction|count|\n",
      "+-----+----------+-----+\n",
      "|  0.0|       0.0|  972|\n",
      "|  1.0|       1.0|  881|\n",
      "|  0.0|       1.0|  205|\n",
      "|  1.0|       0.0|  156|\n",
      "+-----+----------+-----+\n",
      "\n"
     ]
    }
   ],
   "source": [
    "# confusion matrix\n",
    "prediction_forest.groupBy('label','prediction').count().show()"
   ]
  },
  {
   "cell_type": "code",
   "execution_count": 178,
   "metadata": {},
   "outputs": [
    {
     "data": {
      "text/plain": [
       "0.8369467028003613"
      ]
     },
     "execution_count": 178,
     "metadata": {},
     "output_type": "execute_result"
    }
   ],
   "source": [
    "# accuracy\n",
    "(972 + 881) / (972 + 881 + 205 + 156)"
   ]
  },
  {
   "cell_type": "markdown",
   "metadata": {},
   "source": [
    "Even though random forest shows better performance of fitting to the train data (comparing area under ROC), the accuracy of prediction on the test data is only slightly better."
   ]
  },
  {
   "cell_type": "markdown",
   "metadata": {},
   "source": [
    "### Logistic regression"
   ]
  },
  {
   "cell_type": "code",
   "execution_count": 196,
   "metadata": {
    "collapsed": true
   },
   "outputs": [],
   "source": [
    "from pyspark.ml.classification import LogisticRegression\n",
    "\n",
    "logistic = LogisticRegression(maxIter=20)\n",
    "model = logistic.fit(train)"
   ]
  },
  {
   "cell_type": "code",
   "execution_count": 197,
   "metadata": {},
   "outputs": [
    {
     "name": "stdout",
     "output_type": "stream",
     "text": [
      "area under ROC (for training set): 0.9045576407775238\n"
     ]
    },
    {
     "data": {
      "image/png": "[encoded data removed]",
      "text/plain": [
       "<Figure size 432x288 with 1 Axes>"
      ]
     },
     "metadata": {
      "needs_background": "light"
     },
     "output_type": "display_data"
    }
   ],
   "source": [
    "print('area under ROC (for training set): ' + str(model.summary.areaUnderROC))\n",
    "\n",
    "roc = model.summary.roc.toPandas()\n",
    "plt.plot(roc['FPR'],roc['TPR'])\n",
    "plt.ylabel('False Positive Rate')\n",
    "plt.xlabel('True Positive Rate')\n",
    "plt.title('ROC Curve')\n",
    "plt.show()"
   ]
  },
  {
   "cell_type": "code",
   "execution_count": 198,
   "metadata": {
    "collapsed": true
   },
   "outputs": [],
   "source": [
    "prediction_logistic = model.transform(test)"
   ]
  },
  {
   "cell_type": "code",
   "execution_count": 199,
   "metadata": {},
   "outputs": [
    {
     "name": "stdout",
     "output_type": "stream",
     "text": [
      "+-----+----------+-----+\n",
      "|label|prediction|count|\n",
      "+-----+----------+-----+\n",
      "|  0.0|       0.0| 1011|\n",
      "|  1.0|       1.0|  814|\n",
      "|  1.0|       0.0|  223|\n",
      "|  0.0|       1.0|  166|\n",
      "+-----+----------+-----+\n",
      "\n"
     ]
    }
   ],
   "source": [
    "# confusion matrix\n",
    "prediction_logistic.groupBy('label','prediction').count().show()"
   ]
  },
  {
   "cell_type": "code",
   "execution_count": 200,
   "metadata": {},
   "outputs": [
    {
     "data": {
      "text/plain": [
       "0.8242999096657633"
      ]
     },
     "execution_count": 200,
     "metadata": {},
     "output_type": "execute_result"
    }
   ],
   "source": [
    "(1011 + 814) / (1011 + 814 + 223 + 166)"
   ]
  },
  {
   "cell_type": "markdown",
   "metadata": {},
   "source": [
    "Accuracy comparable with decision tree (slightly better)."
   ]
  },
  {
   "cell_type": "markdown",
   "metadata": {},
   "source": [
    "### Gradient Boosted Tree classifier"
   ]
  },
  {
   "cell_type": "code",
   "execution_count": 209,
   "metadata": {
    "collapsed": true
   },
   "outputs": [],
   "source": [
    "from pyspark.ml.classification import GBTClassifier\n",
    "\n",
    "gbt = GBTClassifier(maxIter=20, maxDepth=6)\n",
    "model = gbt.fit(train)"
   ]
  },
  {
   "cell_type": "code",
   "execution_count": 210,
   "metadata": {},
   "outputs": [
    {
     "data": {
      "text/plain": [
       "0.9506866995950202"
      ]
     },
     "execution_count": 210,
     "metadata": {},
     "output_type": "execute_result"
    }
   ],
   "source": [
    "# area under roc curve for training set\n",
    "binary_evaluator.evaluate(model.transform(train))"
   ]
  },
  {
   "cell_type": "code",
   "execution_count": 211,
   "metadata": {
    "collapsed": true
   },
   "outputs": [],
   "source": [
    "prediction_gbt = model.transform(test)"
   ]
  },
  {
   "cell_type": "code",
   "execution_count": 212,
   "metadata": {},
   "outputs": [
    {
     "name": "stdout",
     "output_type": "stream",
     "text": [
      "+-----+----------+-----+\n",
      "|label|prediction|count|\n",
      "+-----+----------+-----+\n",
      "|  0.0|       0.0| 1003|\n",
      "|  1.0|       1.0|  901|\n",
      "|  0.0|       1.0|  174|\n",
      "|  1.0|       0.0|  136|\n",
      "+-----+----------+-----+\n",
      "\n"
     ]
    }
   ],
   "source": [
    "# confusion matrix\n",
    "prediction_gbt.groupBy('label','prediction').count().show()"
   ]
  },
  {
   "cell_type": "code",
   "execution_count": 213,
   "metadata": {},
   "outputs": [
    {
     "data": {
      "text/plain": [
       "0.8599819331526649"
      ]
     },
     "execution_count": 213,
     "metadata": {},
     "output_type": "execute_result"
    }
   ],
   "source": [
    "# accuracy\n",
    "(1003 + 901) / (1003 + 901 + 174 + 136)"
   ]
  },
  {
   "cell_type": "markdown",
   "metadata": {},
   "source": [
    "In terms of accuracy for test data, GBT classifier is the best one!"
   ]
  }
 ],
 "metadata": {
  "kernelspec": {
   "display_name": "Python 3",
   "language": "python",
   "name": "python3"
  },
  "language_info": {
   "codemirror_mode": {
    "name": "ipython",
    "version": 3
   },
   "file_extension": ".py",
   "mimetype": "text/x-python",
   "name": "python",
   "nbconvert_exporter": "python",
   "pygments_lexer": "ipython3",
   "version": "3.6.3"
  }
 },
 "nbformat": 4,
 "nbformat_minor": 2
}
